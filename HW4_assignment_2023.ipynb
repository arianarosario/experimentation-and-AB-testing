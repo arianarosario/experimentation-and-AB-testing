{
 "cells": [
  {
   "cell_type": "markdown",
   "metadata": {},
   "source": [
    "# ORIE 5355/INFO 5370 HW 4: Experimentation"
   ]
  },
  {
   "cell_type": "markdown",
   "metadata": {},
   "source": [
    " - Name: **Ariana Rosario**\n",
    " - Net-id: **ar943**\n",
    " - Date: **10/31/2023**\n",
    " - Late days used for this assignment: **1**\n",
    " - Total late days used (counting this assignment): **4**\n",
    " - People with whom you discussed this assignment: **n/a**"
   ]
  },
  {
   "cell_type": "markdown",
   "metadata": {},
   "source": [
    "After you finish the homework, please complete the following (short, anonymous) post-homework survey: https://forms.gle/bksANDh9kJitim2j9 and include the survey completion code below."
   ]
  },
  {
   "cell_type": "markdown",
   "metadata": {},
   "source": [
    "### Question 0 [1 points]\n",
    "<font color='green'> Survey completion code: <font color='black'> **hw4_2021dfg**"
   ]
  },
  {
   "cell_type": "markdown",
   "metadata": {},
   "source": [
    "# Conceptual component [4 points]"
   ]
  },
  {
   "cell_type": "markdown",
   "metadata": {},
   "source": [
    "### Personal reflection"
   ]
  },
  {
   "cell_type": "markdown",
   "metadata": {},
   "source": [
    "<font color='green'> Think back to a time that you wanted to evaluate an idea or product. If you have not had such an idea before, you may answer these questions about an article in the news that reported such a feature, or a feature that you think might be in deployment at a company or organization with which you interact (for example, Amazon, Google, Facebook, etc). "
   ]
  },
  {
   "cell_type": "markdown",
   "metadata": {},
   "source": [
    "<font color='green'> Briefly summarize the scenario in no more than two sentences. "
   ]
  },
  {
   "cell_type": "markdown",
   "metadata": {},
   "source": [
    "In a previous role, I was overseeing the soft launch of an internal product that was essentially a company version of Wikipedia. During this soft launch, we wanted to evaluate the **efficiency of different marketing methods in tool adoption** *(i.e. how many people have started using the product)*\n",
    "\n",
    "Using Google analytics, I had access to *metrics such as site visits, active users, and session time*. In theory, an uptick in these measurements could indicate an increase in tool adoption."
   ]
  },
  {
   "cell_type": "markdown",
   "metadata": {},
   "source": [
    "<font color='green'> What was the objective that you cared about/wanted to optimize with the product/idea? What was the measurement that you could feasibly measure during the experimental period? In what ways did the measurement not match the objective you cared about? Answer in no more than 3 sentences.  "
   ]
  },
  {
   "cell_type": "markdown",
   "metadata": {},
   "source": [
    "I wanted to evaluate different marketing methods and optimize for higher user adoption. However, \"adoption\" cannot be directly measured, so I used metrics such as site visits, active users, and session time as proxies.\n",
    "\n",
    "While the proxy metrics were helpful in giving me a better idea of site traffic, they could be affected by scenarios other than higher tool usage. For instance, there could be many site visits from a single user or that lasted for too short of a time to be considered \"active\"."
   ]
  },
  {
   "cell_type": "markdown",
   "metadata": {},
   "source": [
    "<font color='green'> Did the setting have interference (such as due to a network setting, interference through a 2 sided marketplace or capacity constraints, etc.)? If so, how did it effect your experimental design and results? If your answer is no, why are you sure that such interference did not happen? Answer in no more than 3 sentences.  "
   ]
  },
  {
   "cell_type": "markdown",
   "metadata": {},
   "source": [
    "To begin, the experiment couldn't necessarily prove a causal relationship between a given marketing method and an uptick in active users, all we could see is correlation. \n",
    "\n",
    "Additionally, given that the product involved networks (both in the user base and content) there was definitely interference. \n",
    "* For instance, when we tried a marketing technique with a given team, the information could be passed down through the team's network and lead to an uptick in active users, depending on the size and connectivity of the team\n",
    "\n",
    "* Also, the product was a wiki, so the content were articles that linked to other articles. This means that the more we socialized the product, the more articles and links, which could lead to more site visits"
   ]
  },
  {
   "cell_type": "markdown",
   "metadata": {},
   "source": [
    "<font color='green'> Given what we have learned in class so far, what would you do differently if faced with the same scenario again? Answer in no more than 3 sentences. "
   ]
  },
  {
   "cell_type": "markdown",
   "metadata": {},
   "source": [
    "Given that one of the sources of interference due the network effect in the users, I could try to **track the \"source\" of new users** *(similar to attribution in digital marketing).*\n",
    "\n",
    "Another thing to consider could be the method of **increasing the unit of experimentation** *(discussed in class)* and analyze the effect of two different treatments over two similar but fairly isolated teams."
   ]
  },
  {
   "cell_type": "markdown",
   "metadata": {},
   "source": [
    "# Programming component"
   ]
  },
  {
   "cell_type": "markdown",
   "metadata": {},
   "source": [
    "## Helper code"
   ]
  },
  {
   "cell_type": "code",
   "execution_count": 342,
   "metadata": {},
   "outputs": [],
   "source": [
    "import numpy as np\n",
    "import pandas as pd\n",
    "import os, sys, math\n",
    "import matplotlib.pyplot as plt"
   ]
  },
  {
   "cell_type": "code",
   "execution_count": 343,
   "metadata": {},
   "outputs": [],
   "source": [
    "df_headlines = pd.read_csv('headline-experiment-heds.csv')\n",
    "df = pd.read_csv('headline-experiment-impressions.csv')"
   ]
  },
  {
   "cell_type": "code",
   "execution_count": 344,
   "metadata": {},
   "outputs": [
    {
     "name": "stdout",
     "output_type": "stream",
     "text": [
      "She's Not Just Destined For Greatness, She's Destined To Do Great Things For Women\n",
      "This Young Woman Just Took Silicon Valley By Storm And She's Not Stopping There\n",
      "Feminism 101: This Girl Is Going Places And She's Taking Other Girls With Her \n",
      "Remember When Math Was \"Too Hard\" For The Ladies? Not So Much.\n"
     ]
    }
   ],
   "source": [
    "for x in df_headlines.hed:\n",
    "    print(x)"
   ]
  },
  {
   "cell_type": "code",
   "execution_count": 345,
   "metadata": {},
   "outputs": [
    {
     "name": "stdout",
     "output_type": "stream",
     "text": [
      "<class 'pandas.core.frame.DataFrame'>\n",
      "RangeIndex: 14950 entries, 0 to 14949\n",
      "Data columns (total 2 columns):\n",
      " #   Column  Non-Null Count  Dtype\n",
      "---  ------  --------------  -----\n",
      " 0   hed     14950 non-null  int64\n",
      " 1   click   14950 non-null  int64\n",
      "dtypes: int64(2)\n",
      "memory usage: 233.7 KB\n"
     ]
    }
   ],
   "source": [
    "df.info()"
   ]
  },
  {
   "cell_type": "code",
   "execution_count": 346,
   "metadata": {},
   "outputs": [
    {
     "data": {
      "text/plain": [
       "hed\n",
       "3    3763\n",
       "1    3756\n",
       "4    3737\n",
       "2    3694\n",
       "Name: count, dtype: int64"
      ]
     },
     "execution_count": 346,
     "metadata": {},
     "output_type": "execute_result"
    }
   ],
   "source": [
    "df.hed.value_counts()"
   ]
  },
  {
   "cell_type": "code",
   "execution_count": 347,
   "metadata": {},
   "outputs": [
    {
     "data": {
      "text/plain": [
       "hed\n",
       "1    0.010650\n",
       "2    0.006497\n",
       "3    0.010098\n",
       "4    0.004549\n",
       "Name: click, dtype: float64"
      ]
     },
     "execution_count": 347,
     "metadata": {},
     "output_type": "execute_result"
    }
   ],
   "source": [
    "df.groupby('hed')['click'].mean()"
   ]
  },
  {
   "cell_type": "markdown",
   "metadata": {},
   "source": [
    "df_headlines has a list of 4 headlines for the same article from Upworthy. df is a dataframe where each row represents a user. `hed` indicates which headline was shown to the user, and `click` is a binary indicator for whether the user clicked on the headline. A `1` represents a click, and so, for example, headline 2 was clicked on 0.6\\% of the time. Each headline was shown to about 3700 users."
   ]
  },
  {
   "cell_type": "markdown",
   "metadata": {},
   "source": [
    "I recommend reading the following post: https://towardsdatascience.com/ab-testing-with-python-e5964dd66143 (the corresponding jupyter noteebok can be found at https://github.com/renatofillinich/ab_test_guide_in_python)"
   ]
  },
  {
   "cell_type": "markdown",
   "metadata": {},
   "source": [
    "In this homework, we will only be working with the first two headlines:"
   ]
  },
  {
   "cell_type": "code",
   "execution_count": 348,
   "metadata": {},
   "outputs": [],
   "source": [
    "df = df.query('hed==1 or hed==2')"
   ]
  },
  {
   "cell_type": "code",
   "execution_count": 349,
   "metadata": {},
   "outputs": [
    {
     "name": "stdout",
     "output_type": "stream",
     "text": [
      "<class 'pandas.core.frame.DataFrame'>\n",
      "Index: 7450 entries, 1 to 14949\n",
      "Data columns (total 2 columns):\n",
      " #   Column  Non-Null Count  Dtype\n",
      "---  ------  --------------  -----\n",
      " 0   hed     7450 non-null   int64\n",
      " 1   click   7450 non-null   int64\n",
      "dtypes: int64(2)\n",
      "memory usage: 174.6 KB\n"
     ]
    }
   ],
   "source": [
    "df.info()"
   ]
  },
  {
   "cell_type": "markdown",
   "metadata": {},
   "source": [
    "# Problem 1: Simple A/B tests, and dependence on sample size"
   ]
  },
  {
   "cell_type": "markdown",
   "metadata": {},
   "source": [
    "## Problem 1a: Simple A/B testing (2 pts)"
   ]
  },
  {
   "cell_type": "markdown",
   "metadata": {},
   "source": [
    "First, what do the results look like if we use all the data?"
   ]
  },
  {
   "cell_type": "markdown",
   "metadata": {},
   "source": [
    "Here, you will want to use the functions under \"4. Testing the hypothesis\" in the above blog post. In particular you will want to test the \"1 sided\" hypothesis that headline 1 is better than headline 2. (In statsmodels.stats.proportion.proportions_ztest, use alternative='larger', and put headline 1 first in the data.)\n",
    "\n",
    "https://www.statsmodels.org/stable/generated/statsmodels.stats.proportion.proportions_ztest.html\n"
   ]
  },
  {
   "cell_type": "markdown",
   "metadata": {},
   "source": [
    "<font color='green'> If you use all the data (all the entries in the dataframe), what is the mean click through rate for each headline?"
   ]
  },
  {
   "cell_type": "code",
   "execution_count": 350,
   "metadata": {},
   "outputs": [
    {
     "data": {
      "text/html": [
       "<div>\n",
       "<style scoped>\n",
       "    .dataframe tbody tr th:only-of-type {\n",
       "        vertical-align: middle;\n",
       "    }\n",
       "\n",
       "    .dataframe tbody tr th {\n",
       "        vertical-align: top;\n",
       "    }\n",
       "\n",
       "    .dataframe thead th {\n",
       "        text-align: right;\n",
       "    }\n",
       "</style>\n",
       "<table border=\"1\" class=\"dataframe\">\n",
       "  <thead>\n",
       "    <tr style=\"text-align: right;\">\n",
       "      <th></th>\n",
       "      <th>hed</th>\n",
       "      <th>click</th>\n",
       "    </tr>\n",
       "  </thead>\n",
       "  <tbody>\n",
       "    <tr>\n",
       "      <th>count</th>\n",
       "      <td>7450.0</td>\n",
       "      <td>7450.000000</td>\n",
       "    </tr>\n",
       "    <tr>\n",
       "      <th>unique</th>\n",
       "      <td>2.0</td>\n",
       "      <td>NaN</td>\n",
       "    </tr>\n",
       "    <tr>\n",
       "      <th>top</th>\n",
       "      <td>1.0</td>\n",
       "      <td>NaN</td>\n",
       "    </tr>\n",
       "    <tr>\n",
       "      <th>freq</th>\n",
       "      <td>3756.0</td>\n",
       "      <td>NaN</td>\n",
       "    </tr>\n",
       "    <tr>\n",
       "      <th>mean</th>\n",
       "      <td>NaN</td>\n",
       "      <td>0.008591</td>\n",
       "    </tr>\n",
       "    <tr>\n",
       "      <th>std</th>\n",
       "      <td>NaN</td>\n",
       "      <td>0.092293</td>\n",
       "    </tr>\n",
       "    <tr>\n",
       "      <th>min</th>\n",
       "      <td>NaN</td>\n",
       "      <td>0.000000</td>\n",
       "    </tr>\n",
       "    <tr>\n",
       "      <th>25%</th>\n",
       "      <td>NaN</td>\n",
       "      <td>0.000000</td>\n",
       "    </tr>\n",
       "    <tr>\n",
       "      <th>50%</th>\n",
       "      <td>NaN</td>\n",
       "      <td>0.000000</td>\n",
       "    </tr>\n",
       "    <tr>\n",
       "      <th>75%</th>\n",
       "      <td>NaN</td>\n",
       "      <td>0.000000</td>\n",
       "    </tr>\n",
       "    <tr>\n",
       "      <th>max</th>\n",
       "      <td>NaN</td>\n",
       "      <td>1.000000</td>\n",
       "    </tr>\n",
       "  </tbody>\n",
       "</table>\n",
       "</div>"
      ],
      "text/plain": [
       "           hed        click\n",
       "count   7450.0  7450.000000\n",
       "unique     2.0          NaN\n",
       "top        1.0          NaN\n",
       "freq    3756.0          NaN\n",
       "mean       NaN     0.008591\n",
       "std        NaN     0.092293\n",
       "min        NaN     0.000000\n",
       "25%        NaN     0.000000\n",
       "50%        NaN     0.000000\n",
       "75%        NaN     0.000000\n",
       "max        NaN     1.000000"
      ]
     },
     "execution_count": 350,
     "metadata": {},
     "output_type": "execute_result"
    }
   ],
   "source": [
    "df_test = df.copy()\n",
    "\n",
    "# converting hed to categorical\n",
    "df_test['hed'] = df_test['hed'].astype('category')\n",
    "df_test.describe(include='all')"
   ]
  },
  {
   "cell_type": "code",
   "execution_count": 351,
   "metadata": {},
   "outputs": [
    {
     "data": {
      "text/html": [
       "<div>\n",
       "<style scoped>\n",
       "    .dataframe tbody tr th:only-of-type {\n",
       "        vertical-align: middle;\n",
       "    }\n",
       "\n",
       "    .dataframe tbody tr th {\n",
       "        vertical-align: top;\n",
       "    }\n",
       "\n",
       "    .dataframe thead th {\n",
       "        text-align: right;\n",
       "    }\n",
       "</style>\n",
       "<table border=\"1\" class=\"dataframe\">\n",
       "  <thead>\n",
       "    <tr style=\"text-align: right;\">\n",
       "      <th></th>\n",
       "      <th>headline</th>\n",
       "      <th>clicks</th>\n",
       "      <th>impressions</th>\n",
       "      <th>Click Fraction</th>\n",
       "    </tr>\n",
       "  </thead>\n",
       "  <tbody>\n",
       "    <tr>\n",
       "      <th>0</th>\n",
       "      <td>1</td>\n",
       "      <td>40</td>\n",
       "      <td>3756</td>\n",
       "      <td>0.010650</td>\n",
       "    </tr>\n",
       "    <tr>\n",
       "      <th>1</th>\n",
       "      <td>2</td>\n",
       "      <td>24</td>\n",
       "      <td>3694</td>\n",
       "      <td>0.006497</td>\n",
       "    </tr>\n",
       "  </tbody>\n",
       "</table>\n",
       "</div>"
      ],
      "text/plain": [
       "  headline  clicks  impressions  Click Fraction\n",
       "0        1      40         3756        0.010650\n",
       "1        2      24         3694        0.006497"
      ]
     },
     "execution_count": 351,
     "metadata": {},
     "output_type": "execute_result"
    }
   ],
   "source": [
    "# hide warnings\n",
    "import warnings\n",
    "warnings.filterwarnings('ignore')\n",
    "\n",
    "# getting metrics for each headline\n",
    "df_test_results = df_test.groupby('hed')['click'].agg(['sum', 'count', 'mean']).reset_index()\n",
    "df_test_results.columns = ['headline', 'clicks', 'impressions', 'Click Fraction']\n",
    "df_test_results['Click Fraction'] = df_test_results['Click Fraction']\n",
    "df_test_results"
   ]
  },
  {
   "cell_type": "markdown",
   "metadata": {},
   "source": [
    "The mean click through rates are:\n",
    "* H1 = ~1.07% \n",
    "* H2 = ~0.65%"
   ]
  },
  {
   "cell_type": "markdown",
   "metadata": {},
   "source": [
    "<font color='green'> If you use all the data, what is the p-value for the hypothesis that the first headline is better than the second headline?"
   ]
  },
  {
   "cell_type": "code",
   "execution_count": 352,
   "metadata": {},
   "outputs": [
    {
     "name": "stdout",
     "output_type": "stream",
     "text": [
      "Given the hypothesis: H1 better than H2, the p-val is 0.0261\n"
     ]
    }
   ],
   "source": [
    "# calculating p-val for hypothesis that H1 is better than H2\n",
    "\n",
    "import statsmodels\n",
    "from statsmodels.stats.proportion import proportions_ztest\n",
    "from statsmodels.stats.proportion import proportion_confint\n",
    "\n",
    "hed_1_success, hed_2_success = df_test_results['clicks']\n",
    "hed_1_nobs, hed_2_nobs = df_test_results['impressions']\n",
    "\n",
    "# z-test\n",
    "stat, pval = proportions_ztest(df_test_results['clicks'], df_test_results['impressions'], alternative='larger')\n",
    "print(f'Given the hypothesis: H1 better than H2, the p-val is {round(pval, 4)}')"
   ]
  },
  {
   "cell_type": "markdown",
   "metadata": {},
   "source": [
    "<font color='green'> If you use all the data, what are the 95% confidence intervals for the click through rates for each headline?\n",
    "\n",
    "For example, we got Headline 1: (0.0074, 0.0139)"
   ]
  },
  {
   "cell_type": "code",
   "execution_count": 353,
   "metadata": {},
   "outputs": [
    {
     "name": "stdout",
     "output_type": "stream",
     "text": [
      "Confidence interval for H1: [0.0074, 0.0139]\n",
      "Confidence interval for H2: [0.0039, 0.0091]\n"
     ]
    }
   ],
   "source": [
    "# calculating confidence intervals\n",
    "\n",
    "hed_1_confint = proportion_confint(hed_1_success, hed_1_nobs, alpha=0.05)\n",
    "hed_2_confint = proportion_confint(hed_2_success, hed_2_nobs, alpha=0.05)\n",
    "hed_1_confint = [round(x, 4) for x in hed_1_confint]\n",
    "hed_2_confint = [round(x, 4) for x in hed_2_confint]\n",
    "\n",
    "print(f'Confidence interval for H1: {hed_1_confint}')\n",
    "print(f'Confidence interval for H2: {hed_2_confint}')"
   ]
  },
  {
   "cell_type": "code",
   "execution_count": 354,
   "metadata": {},
   "outputs": [
    {
     "data": {
      "text/html": [
       "<div>\n",
       "<style scoped>\n",
       "    .dataframe tbody tr th:only-of-type {\n",
       "        vertical-align: middle;\n",
       "    }\n",
       "\n",
       "    .dataframe tbody tr th {\n",
       "        vertical-align: top;\n",
       "    }\n",
       "\n",
       "    .dataframe thead th {\n",
       "        text-align: right;\n",
       "    }\n",
       "</style>\n",
       "<table border=\"1\" class=\"dataframe\">\n",
       "  <thead>\n",
       "    <tr style=\"text-align: right;\">\n",
       "      <th></th>\n",
       "      <th>headline</th>\n",
       "      <th>clicks</th>\n",
       "      <th>impressions</th>\n",
       "      <th>Click Fraction</th>\n",
       "      <th>95confint</th>\n",
       "      <th>90confint</th>\n",
       "      <th>85confint</th>\n",
       "      <th>80confint</th>\n",
       "      <th>75confint</th>\n",
       "      <th>70confint</th>\n",
       "    </tr>\n",
       "  </thead>\n",
       "  <tbody>\n",
       "    <tr>\n",
       "      <th>0</th>\n",
       "      <td>1</td>\n",
       "      <td>40</td>\n",
       "      <td>3756</td>\n",
       "      <td>0.010650</td>\n",
       "      <td>[0.0074, 0.0139]</td>\n",
       "      <td>[0.0079, 0.0134]</td>\n",
       "      <td>[0.0082, 0.0131]</td>\n",
       "      <td>[0.0085, 0.0128]</td>\n",
       "      <td>[0.0087, 0.0126]</td>\n",
       "      <td>[0.0089, 0.0124]</td>\n",
       "    </tr>\n",
       "    <tr>\n",
       "      <th>1</th>\n",
       "      <td>2</td>\n",
       "      <td>24</td>\n",
       "      <td>3694</td>\n",
       "      <td>0.006497</td>\n",
       "      <td>[0.0039, 0.0091]</td>\n",
       "      <td>[0.0043, 0.0087]</td>\n",
       "      <td>[0.0046, 0.0084]</td>\n",
       "      <td>[0.0048, 0.0082]</td>\n",
       "      <td>[0.005, 0.008]</td>\n",
       "      <td>[0.0051, 0.0079]</td>\n",
       "    </tr>\n",
       "  </tbody>\n",
       "</table>\n",
       "</div>"
      ],
      "text/plain": [
       "  headline  clicks  impressions  Click Fraction         95confint  \\\n",
       "0        1      40         3756        0.010650  [0.0074, 0.0139]   \n",
       "1        2      24         3694        0.006497  [0.0039, 0.0091]   \n",
       "\n",
       "          90confint         85confint         80confint         75confint  \\\n",
       "0  [0.0079, 0.0134]  [0.0082, 0.0131]  [0.0085, 0.0128]  [0.0087, 0.0126]   \n",
       "1  [0.0043, 0.0087]  [0.0046, 0.0084]  [0.0048, 0.0082]    [0.005, 0.008]   \n",
       "\n",
       "          70confint  \n",
       "0  [0.0089, 0.0124]  \n",
       "1  [0.0051, 0.0079]  "
      ]
     },
     "execution_count": 354,
     "metadata": {},
     "output_type": "execute_result"
    }
   ],
   "source": [
    "# checking confidence intervals for different confidence levels\n",
    "\n",
    "def calc_confint(n_success, nobs, pct = 95):\n",
    "    alpha = 1 - (pct/100)\n",
    "    confint = proportion_confint(n_success, nobs, alpha=alpha)\n",
    "    confint = [round(x, 4) for x in confint]\n",
    "    return confint\n",
    "\n",
    "for conf in [95, 90, 85, 80, 75, 70]:\n",
    "    col_name = str(conf) + 'confint'\n",
    "    df_test_results[col_name] = df_test_results.apply(lambda x: calc_confint(x['clicks'], x['impressions'],pct=conf), axis=1)\n",
    "\n",
    "df_test_results"
   ]
  },
  {
   "cell_type": "markdown",
   "metadata": {},
   "source": [
    "<font color='green'> Interpret the above, in no more than 3 sentences"
   ]
  },
  {
   "cell_type": "markdown",
   "metadata": {},
   "source": [
    "Looking at the 95% confidence interval, we can see that **the values for H1 are generally higher than the values for H2** *(although there's a little bit of overlap, meaning that there are scenarios where H2>H1)*.\n",
    "\n",
    "However, looking at other confidence levels, we see that at 80% confidence, there's **no longer an overlap** between the intervals for H1 and H2 *(meaning that even the highest H2 would still be lower than the lowest possible H2)*.\n",
    "\n",
    "All in all, between the raw click-thru rate comparisons, p-value check, and confidence interval analysis, we can say that H1 is better than H2."
   ]
  },
  {
   "cell_type": "markdown",
   "metadata": {},
   "source": [
    "## Problem 1b: Experimentation with lower sample sizes (2 pts)"
   ]
  },
  {
   "cell_type": "markdown",
   "metadata": {},
   "source": [
    "Now, we'll see how often we would make the \"wrong\" decision if we instead had run an experiment with a lower sample size. We do this via a method called \"bootstrapping\" -- we 're-sample' from the data that we actually saw, in order to estimate what would have happened via counter-factual experiments.  "
   ]
  },
  {
   "cell_type": "markdown",
   "metadata": {},
   "source": [
    "<font color='green'> Complete the following function, which does the following: it simulates 1000 fake experiments; each fake experiment, we sample `overall_sample_size` users and pretend that those users made up the experiment. \n",
    "    \n",
    "<font color='green'> We want to store:\n",
    "    \n",
    "- the distribution of click-through-rate estimates for each headline (we do this for you)\n",
    "\n",
    "- the fraction of experiments in which headline 1 was found to be better than headline 2\n",
    "\n",
    "Here, we're going to say the experiment found that headline 1 was better than headline 2 if it had a higher click fraction, even if it wasn't statistically significant (regardless of p value)."
   ]
  },
  {
   "cell_type": "code",
   "execution_count": 355,
   "metadata": {},
   "outputs": [],
   "source": [
    "def get_estimates_from_bootstrapping(df, overall_sample_size = 100):\n",
    "    estimates = {hed: [] for hed in df.hed.unique()} # for each headline, store the mean estimates\n",
    "    number_of_headlines_1_better_than_2 = 0\n",
    "    for _ in range(1000): # simulate 1000 fake experiments (\"bootstrapping\")\n",
    "        df_sample = df.sample(overall_sample_size)\n",
    "        means = df_sample.groupby('hed')['click'].mean()\n",
    "        for en, mean in enumerate(means):\n",
    "            estimates[en+1].append(mean)\n",
    "\n",
    "        ### TODO complete code here for number_of_headlines_1_better_than_2\n",
    "\n",
    "        # check if headline 1 is better than headline 2\n",
    "        if means[1] > means[2]:\n",
    "            number_of_headlines_1_better_than_2 += 1\n",
    "    \n",
    "    return estimates, number_of_headlines_1_better_than_2/1000\n",
    "    "
   ]
  },
  {
   "cell_type": "code",
   "execution_count": 356,
   "metadata": {},
   "outputs": [
    {
     "name": "stdout",
     "output_type": "stream",
     "text": [
      "After running 1000 experiments with sample size=100, H1 is better than H2 38.0% of the time.\n"
     ]
    }
   ],
   "source": [
    "# testing above function\n",
    "\n",
    "est, perc_1_better_2 = get_estimates_from_bootstrapping(df)\n",
    "print(f'After running 1000 experiments with sample size=100, H1 is better than H2 {round(perc_1_better_2*100, 2)}% of the time.')"
   ]
  },
  {
   "cell_type": "markdown",
   "metadata": {},
   "source": [
    "<font color='green'> For each of overall_sample_size in [100, 1000, 5000] plot a histogram of the estimates for each headline. You should have 3 plots, each plot corresponding to 1 sample size number and containing 2 histograms, 1 for each headline.\n",
    "\n",
    "\n"
   ]
  },
  {
   "cell_type": "code",
   "execution_count": 357,
   "metadata": {},
   "outputs": [],
   "source": [
    "import math\n",
    "\n",
    "samples = [100, 1000, 5000]\n",
    "percs = {}\n",
    "ests = {}\n",
    "bin_max = {}\n",
    "\n",
    "for sample in samples:\n",
    "    est, perc_1_better_2 = get_estimates_from_bootstrapping(df, overall_sample_size=sample)\n",
    "    percs[sample] = perc_1_better_2\n",
    "    ests[sample] = est\n",
    "    \n",
    "    max_est = max(np.max(ests[sample][1]), np.max(ests[sample][2]))\n",
    "    bin_max[sample] = round(math.ceil(max_est*1000)/1000,3) # rounding up to 3 decimal places"
   ]
  },
  {
   "cell_type": "code",
   "execution_count": 358,
   "metadata": {},
   "outputs": [],
   "source": [
    "# plotting a histogram of estimates and percentages for sample = 100\n",
    "\n",
    "def add_bar_labels(freq, bins, patches, half_bin, color):\n",
    "    for freq, bin, path in zip(freq, bins, patches):\n",
    "        bin_center = bin + half_bin\n",
    "        height = int(freq)\n",
    "        lbl = str(height)\n",
    "        if height<1: height = 1\n",
    "        \n",
    "        plt.text(bin_center, height, lbl, ha='center', va='bottom', color=color, fontsize=8)\n",
    "\n",
    "def generate_two_histograms(sample, ests, bin_max):\n",
    "    bins = np.linspace(0, bin_max[sample], 20)\n",
    "    half_bin = (bins[1]-bins[0])/2\n",
    "\n",
    "    h1_freq, h1_bins, h1_patches = plt.hist(ests[sample][1], bins = bins, log=True, \n",
    "                                            alpha=0.35, label='H1', rwidth =1, color='blue')\n",
    "    add_bar_labels(h1_freq, h1_bins, h1_patches, half_bin, 'blue')\n",
    "    h2_freq, h2_bins, h2_patches = plt.hist(ests[sample][2], bins = bins, log=True, \n",
    "                                            alpha=0.3, label='H2', rwidth =1, color='red')\n",
    "    add_bar_labels(h2_freq, h2_bins, h2_patches, half_bin, 'red')\n",
    "\n",
    "    # setting y-axis limit to next power of 10\n",
    "    max_freq = max(h1_freq.max(), h2_freq.max())\n",
    "    if max_freq>1000:\n",
    "        y_lim = 10000\n",
    "    elif max_freq>100:\n",
    "        y_lim = 1000\n",
    "    else:\n",
    "        y_lim = 100\n",
    "\n",
    "    plt.ylim(0, y_lim)\n",
    "    plt.xlabel('Click Fraction')\n",
    "    plt.ylabel('Frequency')\n",
    "    plt.legend()\n",
    "    plt.title(f'Click Fractions for H1 and H2 using {sample} samples')\n",
    "    plt.show()    "
   ]
  },
  {
   "cell_type": "code",
   "execution_count": 359,
   "metadata": {},
   "outputs": [
    {
     "data": {
      "image/png": "[encoded data removed]",
      "text/plain": [
       "<Figure size 640x480 with 1 Axes>"
      ]
     },
     "metadata": {},
     "output_type": "display_data"
    }
   ],
   "source": [
    "# plotting a histogram of click fraction estimates with 100 samples\n",
    "generate_two_histograms(100, ests, bin_max)"
   ]
  },
  {
   "cell_type": "code",
   "execution_count": 360,
   "metadata": {},
   "outputs": [
    {
     "data": {
      "image/png": "[encoded data removed]",
      "text/plain": [
       "<Figure size 640x480 with 1 Axes>"
      ]
     },
     "metadata": {},
     "output_type": "display_data"
    }
   ],
   "source": [
    "# plotting a histogram of click fraction estimates with 1000 samples\n",
    "generate_two_histograms(1000, ests, bin_max)"
   ]
  },
  {
   "cell_type": "code",
   "execution_count": 361,
   "metadata": {},
   "outputs": [
    {
     "data": {
      "image/png": "[encoded data removed]",
      "text/plain": [
       "<Figure size 640x480 with 1 Axes>"
      ]
     },
     "metadata": {},
     "output_type": "display_data"
    }
   ],
   "source": [
    "# plotting a histogram of click fraction estimates with 5000 samples\n",
    "generate_two_histograms(5000, ests, bin_max)"
   ]
  },
  {
   "cell_type": "markdown",
   "metadata": {},
   "source": [
    "<font color='green'> For each of overall_sample_size in sample_size_numbers, get the fraction of experiments in which headline 1 was found to be better than headline 2. Plot a line plot where the X axis is the sample size, and the Y axis is the fraction of times. Note that this code might take a minute or so to run. Note: your line plot should be increasing in the sample size (Why?)\n",
    "\n",
    "For example, with 100 samples, we got: ~0.36. For 1100 samples, we got  0.788. \n"
   ]
  },
  {
   "cell_type": "code",
   "execution_count": 362,
   "metadata": {},
   "outputs": [
    {
     "data": {
      "image/png": "[encoded data removed]",
      "text/plain": [
       "<Figure size 640x480 with 1 Axes>"
      ]
     },
     "metadata": {},
     "output_type": "display_data"
    }
   ],
   "source": [
    "sample_size_numbers = list(range(100, 6000, 500))\n",
    "percs = {}\n",
    "\n",
    "for sample_size in sample_size_numbers:\n",
    "    est, perc_1_better_2 = get_estimates_from_bootstrapping(df, overall_sample_size=sample_size)\n",
    "    #print(f'After running 1000 experiments with sample size {sample_size}, headline 1 is better than headline 2 {round(perc_1_better_2*100, 2)}% of the time.')\n",
    "    percs[sample_size]=perc_1_better_2\n",
    "\n",
    "# plot sample size vs percentage of times headline 1 is better than headline 2\n",
    "plt.plot(percs.keys(), percs.values())\n",
    "plt.xlabel('Sample size')\n",
    "plt.ylabel('H1 > H2 Fraction')\n",
    "plt.title('Sample size vs Fraction of times H1 > H2')\n",
    "# showing grid lines with smaller intervals\n",
    "plt.grid(which='both', alpha=0.5)\n",
    "plt.show()"
   ]
  },
  {
   "cell_type": "markdown",
   "metadata": {},
   "source": [
    "<font color='green'> Intepret the above, in no more than 3 sentences."
   ]
  },
  {
   "cell_type": "markdown",
   "metadata": {},
   "source": [
    "We know from $1a$ that H1 had a considerably higher click fraction (almost 2X) than H2. However, this is not the case when calculating click fractions using a sample of 100 points. \n",
    "\n",
    "This is because the **click fractions are such a small portion of the total impressions** (e.g. 24 clicks out of 3694 impressions), that a smaller sample size could be missing a considerable amount of clicks for either headline. \n",
    "\n",
    "Basically, *there are many ways to sample the data that will not show accurate results.* We see in the graph above *(\"Sample size vs Fraction of times H1 > H2\")* that anything under ~500 samples shows the wrong result *(that H2 is better than H1)*."
   ]
  },
  {
   "cell_type": "markdown",
   "metadata": {},
   "source": [
    "## Problem 2: Peeking (4 points)"
   ]
  },
  {
   "cell_type": "markdown",
   "metadata": {},
   "source": [
    "Now, we'll illustrate the problem of \"peeking\" in experiments. Suppose you're a headline writer, and you personally wrote headline 2 and are now running the AB test. So, you have a maximum experiment budget of 2000 users. Each user comes in sequentially and is assigned either the first or second headline. Now, you also realize that experimentation is wasteful, and so you want to minimize the amount of time you're spending in the experiment.\n",
    "\n",
    "So, you do the following: after each 20th user comes in and either clicks on the headline or doesn't, you check if headline 2 has a higher click fraction than headline 1. If it does, you declare victory and stop the experiment. Otherwise, you continue. \n",
    "\n",
    "Now, we'll want to calculate: how often does the above procedure lead to you declaring victory, that headline 2 is better than headline 1?\n",
    "\n",
    "Here, we will walk you through simulating the above procedure. As before, we will simulate 1000 fake experiments, to get a good estimate of what the above procedure behaves like.  "
   ]
  },
  {
   "cell_type": "markdown",
   "metadata": {},
   "source": [
    "<font color='green'> Finish the below code, to calculate number_of_headlines_2_better_than_1 using the above procedure"
   ]
  },
  {
   "cell_type": "code",
   "execution_count": 363,
   "metadata": {},
   "outputs": [],
   "source": [
    "# creating helper function\n",
    "\n",
    "def get_estimates_with_peeking(df, sample_size=2000, peek_every=20, n_experiments= 1000, check_pval=False):\n",
    "\n",
    "    number_of_headlines_2_better_than_1 = 0\n",
    "\n",
    "    print(f'Running {n_experiments} experiments...')\n",
    "    print(f'* Sample size = {sample_size}, peeking every {peek_every} users')\n",
    "    if(check_pval):\n",
    "        s = 'YES'\n",
    "    else:\n",
    "        s = 'NO'\n",
    "    print(f'* Checking p-value: {s}')\n",
    "    print(f'* Progress:')\n",
    "\n",
    "    for i in range(n_experiments): # simulate n fake experiments\n",
    "        \n",
    "        # printing progress\n",
    "        i += 1\n",
    "        steps = 10\n",
    "        if(i%(n_experiments/steps)==0): \n",
    "            progress = int(i*100/n_experiments)\n",
    "            print(f'\\t{progress}%')\n",
    "\n",
    "        df_sample = df.sample(sample_size)\n",
    "\n",
    "        for number_users in range(peek_every, sample_size+1, peek_every):\n",
    "            df_users_to_far = df_sample.iloc[0:number_users] #grab the first number_users users\n",
    "\n",
    "            # Note, you sometimes may get \"unlucky\", and all the first 20 users received the same headline. In that case, continue the experiment without checking the p-value\n",
    "\n",
    "            # checking if sample df has both headlines\n",
    "            if len(df_users_to_far.hed.unique())<2:\n",
    "                continue # skipping to next iteration\n",
    "            \n",
    "            #TODO: calculate click fractions for each headline\n",
    "            df_results_so_far = df_users_to_far.groupby('hed')['click'].agg(['sum', 'count', 'mean']).reset_index()\n",
    "            df_results_so_far.columns = ['headline', 'clicks', 'impressions', 'Click Fraction']\n",
    "            df_results_so_far['Click Fraction'] = df_results_so_far['Click Fraction'] \n",
    "\n",
    "            h1_fraction = df_results_so_far[df_results_so_far['headline']==1]['Click Fraction'].values[0]\n",
    "            h2_fraction = df_results_so_far[df_results_so_far['headline']==2]['Click Fraction'].values[0]\n",
    "\n",
    "            #TODO potentially end experiment. The \"break\" keyword in python might come in handy.\n",
    "            # Note that you want to break the inner for loop but not the outer loop (think why). \n",
    "            if h2_fraction > h1_fraction:\n",
    "\n",
    "                if check_pval:\n",
    "\n",
    "                    # calculating p-value for hypothesis that H2>H1\n",
    "                    stat, pval = proportions_ztest(df_results_so_far['clicks'], df_results_so_far['impressions'], alternative='smaller')\n",
    "                    \n",
    "                    if pval<=0.05:\n",
    "                        number_of_headlines_2_better_than_1 += 1\n",
    "                        break\n",
    "                else:\n",
    "                    number_of_headlines_2_better_than_1 += 1\n",
    "                    break\n",
    "    \n",
    "    print(f'DONE: H2 is better than H1 {round(h1_better_no_pval*100,1)}% of the time')\n",
    "\n",
    "    return (number_of_headlines_2_better_than_1/n_experiments)                "
   ]
  },
  {
   "cell_type": "code",
   "execution_count": 364,
   "metadata": {},
   "outputs": [
    {
     "name": "stdout",
     "output_type": "stream",
     "text": [
      "Running 100 experiments...\n",
      "* Sample size = 2000, peeking every 20 users\n",
      "* Checking p-value: NO\n",
      "* Progress:\n",
      "\t10%\n",
      "\t20%\n",
      "\t30%\n",
      "\t40%\n",
      "\t50%\n",
      "\t60%\n",
      "\t70%\n",
      "\t80%\n",
      "\t90%\n",
      "\t100%\n",
      "DONE: H2 is better than H1 74.0% of the time\n"
     ]
    }
   ],
   "source": [
    "# testing above function with 100 experiments\n",
    "\n",
    "n_exp = 100\n",
    "h1_better_no_pval= get_estimates_with_peeking(df,n_experiments=n_exp)"
   ]
  },
  {
   "cell_type": "code",
   "execution_count": 365,
   "metadata": {},
   "outputs": [
    {
     "name": "stdout",
     "output_type": "stream",
     "text": [
      "Running 1000 experiments...\n",
      "* Sample size = 2000, peeking every 20 users\n",
      "* Checking p-value: NO\n",
      "* Progress:\n"
     ]
    },
    {
     "name": "stdout",
     "output_type": "stream",
     "text": [
      "\t10%\n",
      "\t20%\n",
      "\t30%\n",
      "\t40%\n",
      "\t50%\n",
      "\t60%\n",
      "\t70%\n",
      "\t80%\n",
      "\t90%\n",
      "\t100%\n",
      "DONE: H2 is better than H1 66.0% of the time\n"
     ]
    }
   ],
   "source": [
    "# running 1000 experiments but checking p-values\n",
    "\n",
    "n_exp = 1000\n",
    "h2_better_no_pval = get_estimates_with_peeking(df,n_experiments=n_exp)"
   ]
  },
  {
   "cell_type": "markdown",
   "metadata": {},
   "source": [
    "<font color='green'> What fraction of the time does the above procedure declare that headline 2 is better than headline 1?"
   ]
  },
  {
   "cell_type": "code",
   "execution_count": 366,
   "metadata": {},
   "outputs": [
    {
     "name": "stdout",
     "output_type": "stream",
     "text": [
      "H2 is better than H1 ~69% of the time\n"
     ]
    }
   ],
   "source": [
    "print(f'H2 is better than H1 ~{round(h2_better_no_pval*100)}% of the time')"
   ]
  },
  {
   "cell_type": "markdown",
   "metadata": {},
   "source": [
    "<font color='green'> Interpret the above answer, in no more than 3 sentences. What went wrong?"
   ]
  },
  {
   "cell_type": "markdown",
   "metadata": {},
   "source": [
    "Again, we know from $1a$ that H1>H2 in terms of click fraction. However, the above set of experiments had ***H2 beating H1 the majority of the time.*** \n",
    "\n",
    "This could be because the *experiments were stopped early* (as soon as H2>H1) **without checking whether the difference was statistically significant** or just due to chance."
   ]
  },
  {
   "cell_type": "markdown",
   "metadata": {},
   "source": [
    "Note: In practice, peeking involves not just taking the mean click percentage but also calculating a p-value and only exiting the experiment if the desired direction is statistically significantly better than the other one. Similar results occur in that setting."
   ]
  },
  {
   "cell_type": "code",
   "execution_count": 367,
   "metadata": {},
   "outputs": [
    {
     "name": "stdout",
     "output_type": "stream",
     "text": [
      "Running 1000 experiments...\n",
      "* Sample size = 2000, peeking every 20 users\n",
      "* Checking p-value: YES\n",
      "* Progress:\n"
     ]
    },
    {
     "name": "stdout",
     "output_type": "stream",
     "text": [
      "\t10%\n",
      "\t20%\n",
      "\t30%\n",
      "\t40%\n",
      "\t50%\n",
      "\t60%\n",
      "\t70%\n",
      "\t80%\n",
      "\t90%\n",
      "\t100%\n",
      "DONE: H2 is better than H1 66.0% of the time\n"
     ]
    }
   ],
   "source": [
    "# running 1000 experiments without checking p-values\n",
    "\n",
    "n_exp = 1000\n",
    "h2_better_with_pval = get_estimates_with_peeking(df,n_experiments=n_exp, check_pval=True)"
   ]
  },
  {
   "cell_type": "markdown",
   "metadata": {},
   "source": [
    "After re-running the experiments but **including a p-value check** to rule out results due to chance, we see a *steep decrease* in the number of times H2>H1. \n",
    "\n",
    "Meaning in the initial experiments, *many of the \"wins\" were not statistically significant* and led to wildly inaccurate results."
   ]
  }
 ],
 "metadata": {
  "kernelspec": {
   "display_name": "Python 3 (ipykernel)",
   "language": "python",
   "name": "python3"
  },
  "language_info": {
   "codemirror_mode": {
    "name": "ipython",
    "version": 3
   },
   "file_extension": ".py",
   "mimetype": "text/x-python",
   "name": "python",
   "nbconvert_exporter": "python",
   "pygments_lexer": "ipython3",
   "version": "3.11.5"
  },
  "varInspector": {
   "cols": {
    "lenName": 16,
    "lenType": 16,
    "lenVar": 40
   },
   "kernels_config": {
    "python": {
     "delete_cmd_postfix": "",
     "delete_cmd_prefix": "del ",
     "library": "var_list.py",
     "varRefreshCmd": "print(var_dic_list())"
    },
    "r": {
     "delete_cmd_postfix": ") ",
     "delete_cmd_prefix": "rm(",
     "library": "var_list.r",
     "varRefreshCmd": "cat(var_dic_list()) "
    }
   },
   "types_to_exclude": [
    "module",
    "function",
    "builtin_function_or_method",
    "instance",
    "_Feature"
   ],
   "window_display": false
  },
  "vscode": {
   "interpreter": {
    "hash": "08c7ecce80b69c620dde7c8919fa94d3baa2217d665b4d1ca74ed6f93561aaf3"
   }
  }
 },
 "nbformat": 4,
 "nbformat_minor": 4
}
